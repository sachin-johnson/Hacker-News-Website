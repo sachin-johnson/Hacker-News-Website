{
 "cells": [
  {
   "cell_type": "markdown",
   "metadata": {},
   "source": [
    "# Hacker News Website\n",
    "\n",
    "[Hacker news](https://news.ycombinator.com/) is a website extremely popular in technology and startup circles. User submitted stories (known as \"posts\") are voted and commented upon by the site visitors. \n",
    "\n",
    "## Aim\n",
    "\n",
    "The aim is to analyze Hacker news website, to find the most popular post category and the suitable time to submit the post, in order to receive greater comment engagement. As popular posts belong to `Ask HN` or `Show HN`, we will only consider these for further analysis.\n",
    "\n",
    "* Users submit `Ask HN` posts to ask the Hacker News community a specific question.\n",
    "* Users submit `Show HN` posts to show the Hacker News community a project, product, or just generally something interesting.\n",
    "\n",
    "The following questions has to be answers before we arrive at a conclusion.\n",
    "\n",
    "* Do `Ask HN` or `Show HN` posts receive more comments on average?\n",
    "* Do posts created at a certain time receive more comments on average?\n",
    "\n",
    "## Input dataset\n",
    "\n",
    "Dataset used by this project can be downloaded [here](https://www.kaggle.com/hacker-news/hacker-news-posts). Below are descriptions of the columns present in the dataset.\n",
    "\n",
    "* `id`: The unique identifier from Hacker News for the post.\n",
    "* `title`: The title of the post.\n",
    "* `url`: The URL that the post links to, if the post has a URL.\n",
    "* `num_points`: The number of points the post acquired, calculated as the total number of upvotes minus the total number of downvotes.\n",
    "* `num_comments`: The number of comments that were made on the post.\n",
    "* `author`: The username of the person who submitted the post.\n",
    "* `created_at`: The date and time at which the post was submitted.\n",
    "\n",
    "Let's start out analysis by importing the libraries we need and reading the data set into a list of lists. This will help us to identify the format in which each element is stored in the data set."
   ]
  },
  {
   "cell_type": "code",
   "execution_count": 1,
   "metadata": {},
   "outputs": [
    {
     "name": "stdout",
     "output_type": "stream",
     "text": [
      "[['id', 'title', 'url', 'num_points', 'num_comments', 'author', 'created_at'], ['12579008', 'You have two days to comment if you want stem cells to be classified as your own', 'http://www.regulations.gov/document?D=FDA-2015-D-3719-0018', '1', '0', 'altstar', '9/26/2016 3:26'], ['12579005', 'SQLAR  the SQLite Archiver', 'https://www.sqlite.org/sqlar/doc/trunk/README.md', '1', '0', 'blacksqr', '9/26/2016 3:24'], ['12578997', 'What if we just printed a flatscreen television on the side of our boxes?', 'https://medium.com/vanmoof/our-secrets-out-f21c1f03fdc8#.ietxmez43', '1', '0', 'pavel_lishin', '9/26/2016 3:19'], ['12578989', 'algorithmic music', 'http://cacm.acm.org/magazines/2011/7/109891-algorithmic-composition/fulltext', '1', '0', 'poindontcare', '9/26/2016 3:16']]\n"
     ]
    }
   ],
   "source": [
    "# Importing reader from csv module to read the file. It is then converted into a list of list - hn.\n",
    "\n",
    "from csv import reader\n",
    "opened_file = open(\"hacker_news.csv\",encoding='utf8')\n",
    "read_file = reader(opened_file)\n",
    "hn = list(read_file)\n",
    "print(hn[:5])"
   ]
  },
  {
   "cell_type": "markdown",
   "metadata": {},
   "source": [
    "Let's find the number of rows present in the data set and seperate the header row from rest for further analysis. "
   ]
  },
  {
   "cell_type": "code",
   "execution_count": 2,
   "metadata": {},
   "outputs": [
    {
     "name": "stdout",
     "output_type": "stream",
     "text": [
      "The number of rows in the data set: 293119 \n",
      "\n",
      "['id', 'title', 'url', 'num_points', 'num_comments', 'author', 'created_at']\n",
      "---------------------------------------------------------------------------- \n",
      "\n",
      "['12579008', 'You have two days to comment if you want stem cells to be classified as your own', 'http://www.regulations.gov/document?D=FDA-2015-D-3719-0018', '1', '0', 'altstar', '9/26/2016 3:26'] \n",
      "\n",
      "['12579005', 'SQLAR  the SQLite Archiver', 'https://www.sqlite.org/sqlar/doc/trunk/README.md', '1', '0', 'blacksqr', '9/26/2016 3:24'] \n",
      "\n",
      "['12578997', 'What if we just printed a flatscreen television on the side of our boxes?', 'https://medium.com/vanmoof/our-secrets-out-f21c1f03fdc8#.ietxmez43', '1', '0', 'pavel_lishin', '9/26/2016 3:19'] \n",
      "\n",
      "['12578989', 'algorithmic music', 'http://cacm.acm.org/magazines/2011/7/109891-algorithmic-composition/fulltext', '1', '0', 'poindontcare', '9/26/2016 3:16'] \n",
      "\n",
      "['12578979', 'How the Data Vault Enables the Next-Gen Data Warehouse and Data Lake', 'https://www.talend.com/blog/2016/05/12/talend-and-Â\\x93the-data-vaultÂ\\x94', '1', '0', 'markgainor1', '9/26/2016 3:14'] \n",
      "\n"
     ]
    }
   ],
   "source": [
    "# Seperating header row from the data set. Headers contains the header row and hn contains the data set.\n",
    "\n",
    "headers = hn[0]   \n",
    "hn = hn[1:]\n",
    "print(\"The number of rows in the data set: {}\".format(len(hn)),\"\\n\")\n",
    "print(headers)\n",
    "print(\"----------------------------------------------------------------------------\",\"\\n\")\n",
    "for row in hn[:5]:\n",
    "    print(row,\"\\n\")"
   ]
  },
  {
   "cell_type": "markdown",
   "metadata": {},
   "source": [
    "## Data Cleaning\n",
    "\n",
    "### Removing posts that received no comments.\n",
    "\n",
    "Our analysis focus on the number of comments received by each posts. `num_comments` represents the number of comments received by each post. It represents the fifth column and thus has an index number of 4. The above listed 5 rows received no comments and thus we need to remove rows where post received zero comments."
   ]
  },
  {
   "cell_type": "code",
   "execution_count": 3,
   "metadata": {},
   "outputs": [
    {
     "name": "stdout",
     "output_type": "stream",
     "text": [
      "The number of rows before deletion of posts with zero comments:  293119\n",
      "The number of rows after deletion of posts with zero comments:  80401\n"
     ]
    }
   ],
   "source": [
    "# To remove posts with zero comments.\n",
    "\n",
    "print(\"The number of rows before deletion of posts with zero comments: \",len(hn))\n",
    "temp_hn = []\n",
    "for row in hn:\n",
    "    num_comments = int(row[4])\n",
    "    if num_comments != 0:\n",
    "        temp_hn.append(row)\n",
    "hn = temp_hn\n",
    "print(\"The number of rows after deletion of posts with zero comments: \",len(hn))"
   ]
  },
  {
   "cell_type": "markdown",
   "metadata": {},
   "source": [
    "### Filtering Ask HN and Show HN posts from the dataset.\n",
    "\n",
    "As we are only concerned with `Ask HN` or `Show HN` posts. We will try to create three new lists to store the following information:\n",
    "\n",
    "* ask_posts[] to store rows where title starts with `Ask HN`.\n",
    "* show_posts[] to store rows where title starts with `Show HN`.\n",
    "* other_posts[] to store other information."
   ]
  },
  {
   "cell_type": "code",
   "execution_count": 4,
   "metadata": {},
   "outputs": [
    {
     "name": "stdout",
     "output_type": "stream",
     "text": [
      "Number of Ask HN posts: 6911\n",
      "Number of Show HN posts: 5059\n",
      "Number of Other posts: 68431\n",
      "\n",
      "\n",
      "\n",
      "[['12578908', 'Ask HN: What TLD do you use for local development?', '', '4', '7', 'Sevrene', '9/26/2016 2:53'], ['12578522', 'Ask HN: How do you pass on your work when you die?', '', '6', '3', 'PascLeRasc', '9/26/2016 1:17'], ['12577870', 'Ask HN: Why join a fund when you can be an angel?', '', '1', '3', 'anthony_james', '9/25/2016 22:48'], ['12577647', 'Ask HN: Someone uses stock trading as passive income?', '', '5', '2', '00taffe', '9/25/2016 21:50'], ['12576946', 'Ask HN: How hard would it be to make a cheap, hackable phone?', '', '2', '1', 'hkt', '9/25/2016 19:30']]\n",
      "\n",
      "\n",
      "[['12577142', 'Show HN: Jumble  Essays on the go #PaulInYourPocket', 'https://itunes.apple.com/us/app/jumble-find-startup-essay/id1150939197?ls=1&mt=8', '1', '1', 'ryderj', '9/25/2016 20:06'], ['12576813', 'Show HN: Learn Japanese Vocab via multiple choice questions', 'http://japanese.vul.io/', '1', '1', 'soulchild37', '9/25/2016 19:06'], ['12576090', 'Show HN: Markov chain Twitter bot. Trained on comments left on Pornhub', 'https://twitter.com/botsonasty', '3', '1', 'keepingscore', '9/25/2016 16:50'], ['12575471', 'Show HN: Project-Okot: Novel, CODE-FREE data-apps in mere seconds', 'https://studio.nuchwezi.com/', '3', '1', 'nfixx', '9/25/2016 14:30'], ['12574773', 'Show HN: Cursor that Screenshot', 'http://edward.codes/cursor-that-screenshot', '3', '3', 'ed-bit', '9/25/2016 10:50']]\n",
      "\n",
      "\n",
      "[['12578975', 'Saving the Hassle of Shopping', 'https://blog.menswr.com/2016/09/07/whats-new-with-your-style-feed/', '1', '1', 'bdoux', '9/26/2016 3:13'], ['12578822', 'Amazons Algorithms Dont Find You the Best Deals', 'https://www.technologyreview.com/s/602442/amazons-algorithms-dont-find-you-the-best-deals/', '1', '1', 'yarapavan', '9/26/2016 2:26'], ['12578694', 'Emergency dose of epinephrine that does not cost an arm and a leg', 'http://m.imgur.com/gallery/th6Ua', '2', '1', 'dredmorbius', '9/26/2016 1:54'], ['12578624', 'Phone Makers Could Cut Off Drivers. So Why Dont They?', 'http://www.nytimes.com/2016/09/25/technology/phone-makers-could-cut-off-drivers-so-why-dont-they.html', '4', '1', 'danso', '9/26/2016 1:37'], ['12578556', 'OpenMW, Open Source Elderscrolls III: Morrowind Reimplementation', 'https://openmw.org/en/', '32', '3', 'rocky1138', '9/26/2016 1:24']]\n"
     ]
    }
   ],
   "source": [
    "ask_posts = []\n",
    "show_posts = []\n",
    "other_posts = []\n",
    "\n",
    "for row in hn:\n",
    "    title = row[1]\n",
    "    if title.lower().startswith(\"ask hn\"):\n",
    "        ask_posts.append(row)\n",
    "    elif title.lower().startswith(\"show hn\"):\n",
    "        show_posts.append(row)\n",
    "    else:\n",
    "        other_posts.append(row)\n",
    "\n",
    "# The number of rows present in each list.\n",
    "\n",
    "print('Number of Ask HN posts:',len(ask_posts))\n",
    "print('Number of Show HN posts:',len(show_posts))\n",
    "print('Number of Other posts:',len(other_posts)) \n",
    "\n",
    "# Let's look at the first 5 rows from each list. To verfiy our data cleaning process.\n",
    "\n",
    "print(\"\\n\\n\")\n",
    "print(ask_posts[:5])\n",
    "print(\"\\n\")\n",
    "print(show_posts[:5])\n",
    "print(\"\\n\")\n",
    "print(other_posts[:5])"
   ]
  },
  {
   "cell_type": "markdown",
   "metadata": {},
   "source": [
    "## Data Analysis\n",
    "\n",
    "### Average number of comments for Ask HN and Show HN posts\n",
    "\n",
    "Let's determine if ask posts or show posts receive more comments on average. For this we will compute the average comments received by both ask_posts[] and show_posts[]. Number of comments is present in the index value of 4 for both lists."
   ]
  },
  {
   "cell_type": "code",
   "execution_count": 5,
   "metadata": {},
   "outputs": [
    {
     "name": "stdout",
     "output_type": "stream",
     "text": [
      "********** Ask HN Post **********\n",
      "The total number of Ask HN post is  6911\n",
      "The total number of comments for Ask HN post is  94986\n",
      "The average number of comments for Ask HN post is 13.74\n",
      "\n",
      " ********** Show HN Post **********\n",
      "The total number of Show HN post is  5059\n",
      "The total number of comments for Show HN post is  49633\n",
      "The average number of comments for Show HN post is 9.81\n"
     ]
    }
   ],
   "source": [
    "# To compute the average number of comments for ask posts\n",
    "\n",
    "total_ask_post = len(ask_posts)\n",
    "total_ask_comments = 0\n",
    "for row in ask_posts:\n",
    "    num_comments = int(row[4])\n",
    "    total_ask_comments += num_comments\n",
    "avg_ask_comments = total_ask_comments / total_ask_post \n",
    "\n",
    "# To compute the average number of comments for show posts\n",
    "\n",
    "total_show_post = len(show_posts)\n",
    "total_show_comments = 0\n",
    "for row in show_posts:\n",
    "    num_comments = int(row[4])\n",
    "    total_show_comments += num_comments\n",
    "avg_show_comments = total_show_comments / total_show_post\n",
    "\n",
    "# To display ask post results\n",
    "\n",
    "print(\"*\"*10,\"Ask HN Post\",\"*\"*10)\n",
    "print(\"The total number of Ask HN post is \",total_ask_post)\n",
    "print(\"The total number of comments for Ask HN post is \",total_ask_comments)\n",
    "print(\"The average number of comments for Ask HN post is {:.2f}\".format(avg_ask_comments))\n",
    "\n",
    "# To display show post results\n",
    "\n",
    "print(\"\\n\",\"*\"*10,\"Show HN Post\",\"*\"*10)\n",
    "print(\"The total number of Show HN post is \",total_show_post)\n",
    "print(\"The total number of comments for Show HN post is \",total_show_comments)\n",
    "print(\"The average number of comments for Show HN post is {:.2f}\".format(avg_show_comments))"
   ]
  },
  {
   "cell_type": "markdown",
   "metadata": {},
   "source": [
    "Let's summerize the above results.\n",
    "\n",
    "* The total number of `Ask HN` post is 6911 versus 5059 for `Show HN` post. \n",
    "* The total number of comments for `Ask HN` post is 94986 versus 49633 for `Show HN` post.  \n",
    "* The average number of comments for `Ask HN` post is 13.74 versus 9.81 for `Show HN` post. \n",
    "\n",
    "> Thus `Ask HN` posts receive more comments on average than `Show HN` posts."
   ]
  },
  {
   "cell_type": "markdown",
   "metadata": {},
   "source": [
    "### Analyze the average number of comments received by post based on its hour of creation\n",
    "\n",
    "We'll determine if posts created at a certain time are more likely to attract more comments. We'll use the following steps to perform this analysis:\n",
    "\n",
    "* Calculate the number of posts created in each hour of the day, along with the number of comments received by them.\n",
    "* Calculate the average number of comments post receive based on the hour of its creation.\n",
    "\n",
    "We can find the above using `created_at` and `num_comments` column in the data set. `created_at` column is present in the seventh column and thus have an index number of 6. `num_comments` column is present in the fifth column and thus have an index number of 4. \n",
    "\n",
    "Note: According to the data set [documentation](https://www.kaggle.com/hacker-news/hacker-news-posts/home), the timezone used is Eastern Time in the US.\n",
    "\n",
    "#### Let's perform the first step to calculate the number of posts created in each hour of the day, along with the number of comments received by them."
   ]
  },
  {
   "cell_type": "code",
   "execution_count": 6,
   "metadata": {},
   "outputs": [],
   "source": [
    "# To make a list that contains only the created time and number of comments for each ask post.\n",
    "\n",
    "time_comment_ask_post = []\n",
    "for row in ask_posts:\n",
    "    time_comment_ask_post.append([row[6],int(row[4])])\n",
    "\n",
    "# To make a list that contains only the created time and number of comments for each show post.\n",
    "\n",
    "time_comment_show_post = []\n",
    "for row in show_posts:\n",
    "    time_comment_show_post.append([row[6],int(row[4])])                       "
   ]
  },
  {
   "cell_type": "markdown",
   "metadata": {},
   "source": [
    "Let's write a generic function to find the number of posts created in each hour of the day and the total number of comments received by them. We will need to convert the timezone from eastern time in USA to Indian Standard Time(IST)."
   ]
  },
  {
   "cell_type": "code",
   "execution_count": 7,
   "metadata": {},
   "outputs": [],
   "source": [
    "import pytz \n",
    "import datetime as dt\n",
    "\n",
    "# counts_by_hour dictionary counts the number of posts created in each hour of the day. \n",
    "# comments_by_hour dictionary contians the total number of comments received by post based on its hour of creation.\n",
    "\n",
    "def freq_table_time(input_list): \n",
    "    \n",
    "    counts_by_hour = dict()\n",
    "    comments_by_hour = dict()\n",
    "    date_format = \"%m/%d/%Y %H:%M\"\n",
    "    \n",
    "    for element in input_list:     \n",
    "        date_time = dt.datetime.strptime(element[0],date_format)\n",
    "        timezone = pytz.timezone('America/New_York')\n",
    "        date_time = timezone.localize(date_time)\n",
    "    \n",
    "        # Converting to indian IST timezone for further analysis\n",
    "    \n",
    "        date_time = date_time.astimezone(pytz.timezone('Asia/Kolkata'))\n",
    "        hour = date_time.strftime(\"%H\")\n",
    "    \n",
    "        if hour in counts_by_hour:\n",
    "            counts_by_hour[hour] += 1\n",
    "            comments_by_hour[hour] += element[1]\n",
    "        else:\n",
    "            counts_by_hour[hour] = 1\n",
    "            comments_by_hour[hour] = element[1]  \n",
    "    \n",
    "    return  counts_by_hour, comments_by_hour"
   ]
  },
  {
   "cell_type": "markdown",
   "metadata": {},
   "source": [
    "we created two dictionaries:\n",
    "\n",
    "* `counts_by_hour` dictionary counts the number of posts created in each hour of the day. \n",
    "* `comments_by_hour` dictionary contians the total number of comments received by posts based on its hour of creation.\n",
    "\n",
    "#### Let's perform the second step to calculate the average number of comments post receive based on its hour of creation.\n",
    "\n",
    "To implement this, let's write `display_by_hour` function to display the average number of comments post receive based on its hour of creation with the help of `freq_table_time` function."
   ]
  },
  {
   "cell_type": "code",
   "execution_count": 8,
   "metadata": {},
   "outputs": [],
   "source": [
    "# To convert from dictionary to a list type for sorting in descending order\n",
    "\n",
    "def dictionary_to_list(input_dictionary):\n",
    "    \n",
    "    to_list = []\n",
    "    \n",
    "    for key,val in input_dictionary.items():\n",
    "        to_list.append([val,key])\n",
    "    \n",
    "    to_list = sorted(to_list, reverse = True)\n",
    "\n",
    "    return to_list\n",
    "\n",
    "# To display the results in a formated manner\n",
    "\n",
    "def display_by_hour(input_list):\n",
    "    \n",
    "    counts_by_hour, comments_by_hour = freq_table_time(input_list)\n",
    "    \n",
    "    # To output the number of posts created on hourly basis in descending order\n",
    "    \n",
    "    counts_by_hour_list = dictionary_to_list(counts_by_hour)\n",
    "    for row in counts_by_hour_list:\n",
    "        print(\"At {}:00 - {} posts where created.\".format(row[1],row[0]))\n",
    "    print(\"\\n\")\n",
    "    \n",
    "    # To output the number of comments received by posts based on its hour of creation in descending order\n",
    "    \n",
    "    comments_by_hour_list = dictionary_to_list(comments_by_hour)\n",
    "    for row in comments_by_hour_list:\n",
    "        print(\"For post created at {}:00 - {} comments was received.\".format(row[1],row[0]))\n",
    "    print(\"\\n\")\n",
    "    \n",
    "    # To output the average number of comments received by posts based on its hour of creation in descending order\n",
    "    \n",
    "    avg_by_hour = []\n",
    "    for key,val in comments_by_hour.items():\n",
    "        avg_by_hour.append([(val/counts_by_hour[key]),key])\n",
    "    avg_by_hour = sorted(avg_by_hour, reverse = True)\n",
    "    \n",
    "    for row in avg_by_hour:\n",
    "        print(\"For post created at {}:00, an average of {:.2f} comments was received.\".format(row[1],row[0]))\n",
    "    print(\"\\n\")\n",
    "        \n",
    "    # The combined analysis of hacker news post\n",
    "    \n",
    "    for row in avg_by_hour:\n",
    "        print(\"At {}:00, an average of {:.2f} comments is received from a total of {} comments and {} posts.\".format(\n",
    "                                                row[1], row[0], comments_by_hour[(row[1])], counts_by_hour[(row[1])] ))  "
   ]
  },
  {
   "cell_type": "markdown",
   "metadata": {},
   "source": [
    "Let's display the analysis of `Ask HN` post with the help of above function. "
   ]
  },
  {
   "cell_type": "code",
   "execution_count": 9,
   "metadata": {},
   "outputs": [
    {
     "name": "stdout",
     "output_type": "stream",
     "text": [
      "\n",
      " ******************** Ask HN Post ******************** \n",
      "\n",
      "At 03:00 - 445 posts where created.\n",
      "At 05:00 - 426 posts where created.\n",
      "At 06:00 - 417 posts where created.\n",
      "At 02:00 - 413 posts where created.\n",
      "At 01:00 - 412 posts where created.\n",
      "At 00:00 - 410 posts where created.\n",
      "At 04:00 - 409 posts where created.\n",
      "At 07:00 - 342 posts where created.\n",
      "At 23:00 - 327 posts where created.\n",
      "At 08:00 - 295 posts where created.\n",
      "At 22:00 - 289 posts where created.\n",
      "At 09:00 - 272 posts where created.\n",
      "At 21:00 - 256 posts where created.\n",
      "At 10:00 - 249 posts where created.\n",
      "At 20:00 - 234 posts where created.\n",
      "At 13:00 - 217 posts where created.\n",
      "At 11:00 - 212 posts where created.\n",
      "At 12:00 - 211 posts where created.\n",
      "At 19:00 - 200 posts where created.\n",
      "At 15:00 - 192 posts where created.\n",
      "At 18:00 - 180 posts where created.\n",
      "At 14:00 - 178 posts where created.\n",
      "At 17:00 - 168 posts where created.\n",
      "At 16:00 - 157 posts where created.\n",
      "\n",
      "\n",
      "For post created at 00:00 - 12676 comments was received.\n",
      "For post created at 01:00 - 9671 comments was received.\n",
      "For post created at 22:00 - 6183 comments was received.\n",
      "For post created at 02:00 - 6173 comments was received.\n",
      "For post created at 03:00 - 5180 comments was received.\n",
      "For post created at 23:00 - 4859 comments was received.\n",
      "For post created at 05:00 - 4795 comments was received.\n",
      "For post created at 06:00 - 4665 comments was received.\n",
      "For post created at 07:00 - 3911 comments was received.\n",
      "For post created at 04:00 - 3836 comments was received.\n",
      "For post created at 21:00 - 3418 comments was received.\n",
      "For post created at 11:00 - 2886 comments was received.\n",
      "For post created at 20:00 - 2802 comments was received.\n",
      "For post created at 08:00 - 2786 comments was received.\n",
      "For post created at 09:00 - 2717 comments was received.\n",
      "For post created at 12:00 - 2659 comments was received.\n",
      "For post created at 13:00 - 2474 comments was received.\n",
      "For post created at 19:00 - 2305 comments was received.\n",
      "For post created at 18:00 - 2216 comments was received.\n",
      "For post created at 15:00 - 2205 comments was received.\n",
      "For post created at 10:00 - 1949 comments was received.\n",
      "For post created at 17:00 - 1703 comments was received.\n",
      "For post created at 16:00 - 1519 comments was received.\n",
      "For post created at 14:00 - 1398 comments was received.\n",
      "\n",
      "\n",
      "For post created at 00:00, an average of 30.92 comments was received.\n",
      "For post created at 01:00, an average of 23.47 comments was received.\n",
      "For post created at 22:00, an average of 21.39 comments was received.\n",
      "For post created at 02:00, an average of 14.95 comments was received.\n",
      "For post created at 23:00, an average of 14.86 comments was received.\n",
      "For post created at 11:00, an average of 13.61 comments was received.\n",
      "For post created at 21:00, an average of 13.35 comments was received.\n",
      "For post created at 12:00, an average of 12.60 comments was received.\n",
      "For post created at 18:00, an average of 12.31 comments was received.\n",
      "For post created at 20:00, an average of 11.97 comments was received.\n",
      "For post created at 03:00, an average of 11.64 comments was received.\n",
      "For post created at 19:00, an average of 11.53 comments was received.\n",
      "For post created at 15:00, an average of 11.48 comments was received.\n",
      "For post created at 07:00, an average of 11.44 comments was received.\n",
      "For post created at 13:00, an average of 11.40 comments was received.\n",
      "For post created at 05:00, an average of 11.26 comments was received.\n",
      "For post created at 06:00, an average of 11.19 comments was received.\n",
      "For post created at 17:00, an average of 10.14 comments was received.\n",
      "For post created at 09:00, an average of 9.99 comments was received.\n",
      "For post created at 16:00, an average of 9.68 comments was received.\n",
      "For post created at 08:00, an average of 9.44 comments was received.\n",
      "For post created at 04:00, an average of 9.38 comments was received.\n",
      "For post created at 14:00, an average of 7.85 comments was received.\n",
      "For post created at 10:00, an average of 7.83 comments was received.\n",
      "\n",
      "\n",
      "At 00:00, an average of 30.92 comments is received from a total of 12676 comments and 410 posts.\n",
      "At 01:00, an average of 23.47 comments is received from a total of 9671 comments and 412 posts.\n",
      "At 22:00, an average of 21.39 comments is received from a total of 6183 comments and 289 posts.\n",
      "At 02:00, an average of 14.95 comments is received from a total of 6173 comments and 413 posts.\n",
      "At 23:00, an average of 14.86 comments is received from a total of 4859 comments and 327 posts.\n",
      "At 11:00, an average of 13.61 comments is received from a total of 2886 comments and 212 posts.\n",
      "At 21:00, an average of 13.35 comments is received from a total of 3418 comments and 256 posts.\n",
      "At 12:00, an average of 12.60 comments is received from a total of 2659 comments and 211 posts.\n",
      "At 18:00, an average of 12.31 comments is received from a total of 2216 comments and 180 posts.\n",
      "At 20:00, an average of 11.97 comments is received from a total of 2802 comments and 234 posts.\n",
      "At 03:00, an average of 11.64 comments is received from a total of 5180 comments and 445 posts.\n",
      "At 19:00, an average of 11.53 comments is received from a total of 2305 comments and 200 posts.\n",
      "At 15:00, an average of 11.48 comments is received from a total of 2205 comments and 192 posts.\n",
      "At 07:00, an average of 11.44 comments is received from a total of 3911 comments and 342 posts.\n",
      "At 13:00, an average of 11.40 comments is received from a total of 2474 comments and 217 posts.\n",
      "At 05:00, an average of 11.26 comments is received from a total of 4795 comments and 426 posts.\n",
      "At 06:00, an average of 11.19 comments is received from a total of 4665 comments and 417 posts.\n",
      "At 17:00, an average of 10.14 comments is received from a total of 1703 comments and 168 posts.\n",
      "At 09:00, an average of 9.99 comments is received from a total of 2717 comments and 272 posts.\n",
      "At 16:00, an average of 9.68 comments is received from a total of 1519 comments and 157 posts.\n",
      "At 08:00, an average of 9.44 comments is received from a total of 2786 comments and 295 posts.\n",
      "At 04:00, an average of 9.38 comments is received from a total of 3836 comments and 409 posts.\n",
      "At 14:00, an average of 7.85 comments is received from a total of 1398 comments and 178 posts.\n",
      "At 10:00, an average of 7.83 comments is received from a total of 1949 comments and 249 posts.\n"
     ]
    }
   ],
   "source": [
    "print(\"\\n\",\"*\"*20,\"Ask HN Post\",\"*\"*20,\"\\n\")\n",
    "display_by_hour(time_comment_ask_post)"
   ]
  },
  {
   "cell_type": "markdown",
   "metadata": {},
   "source": [
    "From the above result we can infer that it is better to create a `Ask HN` post from 00:00 - 01:00, 01:00 - 02:00 or 22:00 - 23:00 respectively.\n",
    "\n",
    "> Thus we can conclude that `Ask HN` posts created between 00:00 and 01:00 IST have better chance of receiving more attention."
   ]
  },
  {
   "cell_type": "code",
   "execution_count": 10,
   "metadata": {},
   "outputs": [
    {
     "name": "stdout",
     "output_type": "stream",
     "text": [
      "\n",
      " ******************** Show HN Post ******************** \n",
      "\n",
      "At 02:00 - 383 posts where created.\n",
      "At 00:00 - 368 posts where created.\n",
      "At 01:00 - 362 posts where created.\n",
      "At 03:00 - 347 posts where created.\n",
      "At 23:00 - 337 posts where created.\n",
      "At 04:00 - 323 posts where created.\n",
      "At 22:00 - 289 posts where created.\n",
      "At 05:00 - 259 posts where created.\n",
      "At 21:00 - 248 posts where created.\n",
      "At 06:00 - 247 posts where created.\n",
      "At 07:00 - 203 posts where created.\n",
      "At 08:00 - 186 posts where created.\n",
      "At 20:00 - 172 posts where created.\n",
      "At 18:00 - 164 posts where created.\n",
      "At 19:00 - 154 posts where created.\n",
      "At 10:00 - 146 posts where created.\n",
      "At 09:00 - 144 posts where created.\n",
      "At 17:00 - 123 posts where created.\n",
      "At 11:00 - 122 posts where created.\n",
      "At 12:00 - 119 posts where created.\n",
      "At 15:00 - 97 posts where created.\n",
      "At 16:00 - 96 posts where created.\n",
      "At 13:00 - 94 posts where created.\n",
      "At 14:00 - 76 posts where created.\n",
      "\n",
      "\n",
      "For post created at 23:00 - 4125 comments was received.\n",
      "For post created at 01:00 - 4089 comments was received.\n",
      "For post created at 00:00 - 3792 comments was received.\n",
      "For post created at 04:00 - 3705 comments was received.\n",
      "For post created at 03:00 - 3137 comments was received.\n",
      "For post created at 02:00 - 3128 comments was received.\n",
      "For post created at 21:00 - 2812 comments was received.\n",
      "For post created at 22:00 - 2610 comments was received.\n",
      "For post created at 05:00 - 2296 comments was received.\n",
      "For post created at 06:00 - 2019 comments was received.\n",
      "For post created at 07:00 - 1891 comments was received.\n",
      "For post created at 18:00 - 1769 comments was received.\n",
      "For post created at 09:00 - 1598 comments was received.\n",
      "For post created at 20:00 - 1528 comments was received.\n",
      "For post created at 08:00 - 1518 comments was received.\n",
      "For post created at 19:00 - 1449 comments was received.\n",
      "For post created at 12:00 - 1301 comments was received.\n",
      "For post created at 17:00 - 1159 comments was received.\n",
      "For post created at 15:00 - 1095 comments was received.\n",
      "For post created at 16:00 - 1044 comments was received.\n",
      "For post created at 10:00 - 1030 comments was received.\n",
      "For post created at 11:00 - 902 comments was received.\n",
      "For post created at 14:00 - 848 comments was received.\n",
      "For post created at 13:00 - 788 comments was received.\n",
      "\n",
      "\n",
      "For post created at 23:00, an average of 12.24 comments was received.\n",
      "For post created at 04:00, an average of 11.47 comments was received.\n",
      "For post created at 21:00, an average of 11.34 comments was received.\n",
      "For post created at 01:00, an average of 11.30 comments was received.\n",
      "For post created at 15:00, an average of 11.29 comments was received.\n",
      "For post created at 14:00, an average of 11.16 comments was received.\n",
      "For post created at 09:00, an average of 11.10 comments was received.\n",
      "For post created at 12:00, an average of 10.93 comments was received.\n",
      "For post created at 16:00, an average of 10.88 comments was received.\n",
      "For post created at 18:00, an average of 10.79 comments was received.\n",
      "For post created at 00:00, an average of 10.30 comments was received.\n",
      "For post created at 17:00, an average of 9.42 comments was received.\n",
      "For post created at 19:00, an average of 9.41 comments was received.\n",
      "For post created at 07:00, an average of 9.32 comments was received.\n",
      "For post created at 03:00, an average of 9.04 comments was received.\n",
      "For post created at 22:00, an average of 9.03 comments was received.\n",
      "For post created at 20:00, an average of 8.88 comments was received.\n",
      "For post created at 05:00, an average of 8.86 comments was received.\n",
      "For post created at 13:00, an average of 8.38 comments was received.\n",
      "For post created at 06:00, an average of 8.17 comments was received.\n",
      "For post created at 02:00, an average of 8.17 comments was received.\n",
      "For post created at 08:00, an average of 8.16 comments was received.\n",
      "For post created at 11:00, an average of 7.39 comments was received.\n",
      "For post created at 10:00, an average of 7.05 comments was received.\n",
      "\n",
      "\n",
      "At 23:00, an average of 12.24 comments is received from a total of 4125 comments and 337 posts.\n",
      "At 04:00, an average of 11.47 comments is received from a total of 3705 comments and 323 posts.\n",
      "At 21:00, an average of 11.34 comments is received from a total of 2812 comments and 248 posts.\n",
      "At 01:00, an average of 11.30 comments is received from a total of 4089 comments and 362 posts.\n",
      "At 15:00, an average of 11.29 comments is received from a total of 1095 comments and 97 posts.\n",
      "At 14:00, an average of 11.16 comments is received from a total of 848 comments and 76 posts.\n",
      "At 09:00, an average of 11.10 comments is received from a total of 1598 comments and 144 posts.\n",
      "At 12:00, an average of 10.93 comments is received from a total of 1301 comments and 119 posts.\n",
      "At 16:00, an average of 10.88 comments is received from a total of 1044 comments and 96 posts.\n",
      "At 18:00, an average of 10.79 comments is received from a total of 1769 comments and 164 posts.\n",
      "At 00:00, an average of 10.30 comments is received from a total of 3792 comments and 368 posts.\n",
      "At 17:00, an average of 9.42 comments is received from a total of 1159 comments and 123 posts.\n",
      "At 19:00, an average of 9.41 comments is received from a total of 1449 comments and 154 posts.\n",
      "At 07:00, an average of 9.32 comments is received from a total of 1891 comments and 203 posts.\n",
      "At 03:00, an average of 9.04 comments is received from a total of 3137 comments and 347 posts.\n",
      "At 22:00, an average of 9.03 comments is received from a total of 2610 comments and 289 posts.\n",
      "At 20:00, an average of 8.88 comments is received from a total of 1528 comments and 172 posts.\n",
      "At 05:00, an average of 8.86 comments is received from a total of 2296 comments and 259 posts.\n",
      "At 13:00, an average of 8.38 comments is received from a total of 788 comments and 94 posts.\n",
      "At 06:00, an average of 8.17 comments is received from a total of 2019 comments and 247 posts.\n",
      "At 02:00, an average of 8.17 comments is received from a total of 3128 comments and 383 posts.\n",
      "At 08:00, an average of 8.16 comments is received from a total of 1518 comments and 186 posts.\n",
      "At 11:00, an average of 7.39 comments is received from a total of 902 comments and 122 posts.\n",
      "At 10:00, an average of 7.05 comments is received from a total of 1030 comments and 146 posts.\n"
     ]
    }
   ],
   "source": [
    "print(\"\\n\",\"*\"*20,\"Show HN Post\",\"*\"*20,\"\\n\")\n",
    "display_by_hour(time_comment_show_post)"
   ]
  },
  {
   "cell_type": "markdown",
   "metadata": {},
   "source": [
    "For `Show HN` post there isn't much difference between average comment value as shown above. Thus the time of post creation is not as critical for `Show HN` post as compared to `Ask HN` post. It's still better to create `Show HN` post between 23:00 and 24:00 IST.\n",
    "\n",
    "> Thus we can conclude that `Show HN` post created between 23:00 and 24:00 IST receive marginally more comments than others."
   ]
  },
  {
   "cell_type": "markdown",
   "metadata": {},
   "source": [
    "## Conclusion\n",
    "\n",
    "`Ask HN` posts are more popular by comments engagement with an average `Ask HN` post receiving 13.74 comments per post versus 9.81 comments per post for `Show HN`. Best hour for post creation based on average comments received is as follows.\n",
    "* For `Ask HN` post: Between 00:00 - 01:00 (12 am - 1 am IST), with an average of 30.92 comments per post.\n",
    "* For `Show HN` post: Between 23:00 - 24:00 (11 pm - 12 am IST), with an average of 12.24 comments per post.\n",
    "    \n",
    "Hacker news website is more widely used by Americans, the suitable time for post creation is presented in IST(Indian Standard Time) and this points to the late hours mentioned above. EST(Eastern Standard Time) in USA is about 09 hours 30 minutes behind IST. This corresponds to mid afternoon in USA."
   ]
  }
 ],
 "metadata": {
  "kernelspec": {
   "display_name": "Python 3",
   "language": "python",
   "name": "python3"
  },
  "language_info": {
   "codemirror_mode": {
    "name": "ipython",
    "version": 3
   },
   "file_extension": ".py",
   "mimetype": "text/x-python",
   "name": "python",
   "nbconvert_exporter": "python",
   "pygments_lexer": "ipython3",
   "version": "3.8.8"
  },
  "toc": {
   "base_numbering": 1,
   "nav_menu": {},
   "number_sections": false,
   "sideBar": true,
   "skip_h1_title": false,
   "title_cell": "Table of Contents",
   "title_sidebar": "Contents",
   "toc_cell": false,
   "toc_position": {},
   "toc_section_display": true,
   "toc_window_display": false
  },
  "varInspector": {
   "cols": {
    "lenName": 16,
    "lenType": 16,
    "lenVar": 40
   },
   "kernels_config": {
    "python": {
     "delete_cmd_postfix": "",
     "delete_cmd_prefix": "del ",
     "library": "var_list.py",
     "varRefreshCmd": "print(var_dic_list())"
    },
    "r": {
     "delete_cmd_postfix": ") ",
     "delete_cmd_prefix": "rm(",
     "library": "var_list.r",
     "varRefreshCmd": "cat(var_dic_list()) "
    }
   },
   "types_to_exclude": [
    "module",
    "function",
    "builtin_function_or_method",
    "instance",
    "_Feature"
   ],
   "window_display": false
  }
 },
 "nbformat": 4,
 "nbformat_minor": 2
}
